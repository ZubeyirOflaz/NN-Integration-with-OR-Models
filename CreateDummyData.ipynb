{
  "nbformat": 4,
  "nbformat_minor": 0,
  "metadata": {
    "colab": {
      "name": "CreateDummyData.ipynb",
      "provenance": [],
      "collapsed_sections": []
    },
    "kernelspec": {
      "name": "python3",
      "display_name": "Python 3"
    },
    "language_info": {
      "name": "python"
    }
  },
  "cells": [
    {
      "cell_type": "markdown",
      "source": [
        ""
      ],
      "metadata": {
        "id": "yfE4cxfxA4b_"
      }
    },
    {
      "cell_type": "code",
      "execution_count": null,
      "metadata": {
        "id": "Ywq4GSBS-bxF"
      },
      "outputs": [],
      "source": [
        "import pandas as pd\n",
        "import numpy as np\n",
        "import requests as r\n",
        "import json as j\n",
        "import matplotlib.pyplot as plt\n",
        "from scipy.ndimage.filters import uniform_filter1d\n",
        "from datetime import date, time, datetime, timedelta\n",
        "from google.colab import files"
      ]
    },
    {
      "cell_type": "markdown",
      "source": [
        "Names of the locations, their logtitudes and latitues are defined. The current location coordinations that are being used are taken from the cities of Nürnberg, Ingolstadt, Regensburg, Munich, and Ausburg. "
      ],
      "metadata": {
        "id": "r25EArXEJP6B"
      }
    },
    {
      "cell_type": "code",
      "source": [
        "location_data = dict()\n",
        "location_data['names'] = ['Nürnberg', 'Ingolstadt', 'Regensburg', 'Munich', 'Ausburg']\n",
        "location_data['x_coord'] = [11.126702,11.459927,12.068349,11.641047,10.952331]\n",
        "location_data['y_coord'] = [49.434279,48.782418,48.999987,48.250762,48.400403]\n",
        "busy_hours = [8,9,15,16]\n",
        "#Dictionary that holds all info regarding the Gaussian distribution of \n",
        "#time multilpliers\n",
        "multiplier_data = dict()\n",
        "multiplier_data['busy'] = dict()\n",
        "multiplier_data['busy']['mean'] = 1.25\n",
        "multiplier_data['busy']['sd'] = 0.2\n",
        "multiplier_data['normal'] = dict()\n",
        "multiplier_data['normal']['mean'] = 1\n",
        "multiplier_data['normal']['sd'] = 0.1\n",
        "#Dictionary that holds information regarding date and time intervals\n",
        "day_info = dict()\n",
        "day_info['number_of_days']  = 60\n",
        "day_info['day_start'] = 7\n",
        "day_info['day_end'] = 18\n",
        "day_info['interval_per_hour'] = 12\n"
      ],
      "metadata": {
        "id": "Nn3l-umJA3tv"
      },
      "execution_count": null,
      "outputs": []
    },
    {
      "cell_type": "markdown",
      "source": [
        "Function to combine all location data into one list object"
      ],
      "metadata": {
        "id": "SgPq4yAyM1oX"
      }
    },
    {
      "cell_type": "code",
      "source": [
        "def PrepareLocationData(location_info):\n",
        "  names = location_info['names']\n",
        "  x_coord = location_info['x_coord']\n",
        "  y_coord = location_info['y_coord']\n",
        "  locations = list()\n",
        "  for index, value in enumerate(names):\n",
        "    location = dict()\n",
        "    location['name'] = value\n",
        "    location['x'] = x_coord[index]\n",
        "    location['y'] = y_coord[index]\n",
        "    locations.append(location)\n",
        "  return locations"
      ],
      "metadata": {
        "id": "GhB3PUKBMyvw"
      },
      "execution_count": null,
      "outputs": []
    },
    {
      "cell_type": "code",
      "source": [
        "test = PrepareLocationData(location_data)"
      ],
      "metadata": {
        "id": "65iV3BXbIq80"
      },
      "execution_count": null,
      "outputs": []
    },
    {
      "cell_type": "code",
      "source": [
        "print(test)"
      ],
      "metadata": {
        "colab": {
          "base_uri": "https://localhost:8080/"
        },
        "id": "Pqh6OXnIMsXK",
        "outputId": "684c4686-fcbd-49aa-ab1e-37ff0ec51c08"
      },
      "execution_count": null,
      "outputs": [
        {
          "output_type": "stream",
          "name": "stdout",
          "text": [
            "[{'name': 'Nürnberg', 'x': 11.126702, 'y': 49.434279}, {'name': 'Ingolstadt', 'x': 11.459927, 'y': 48.782418}, {'name': 'Regensburg', 'x': 12.068349, 'y': 48.999987}, {'name': 'Munich', 'x': 11.641047, 'y': 48.250762}, {'name': 'Ausburg', 'x': 10.952331, 'y': 48.400403}]\n"
          ]
        }
      ]
    },
    {
      "cell_type": "code",
      "source": [
        "def GetTravelTime(location_master):\n",
        "  coordinate_string = ''\n",
        "  waypoints = list()\n",
        "  for i in location_master:\n",
        "    waypoints.append((i['x'],i['y']))\n",
        "  waypoint_string = ';'.join(map(lambda pt: '{},{}'.format(*pt), waypoints))\n",
        "  osrm_host = 'http://router.project-osrm.org'\n",
        "  osrm_request = '/table/v1/driving/'\n",
        "  travel_matrix = r.get('{}{}{}'.format(osrm_host,osrm_request,waypoint_string))\n",
        "  travel_json = j.loads(travel_matrix.text)\n",
        "  travel_matrix = travel_json['durations']\n",
        "  return travel_matrix"
      ],
      "metadata": {
        "id": "NrvjfHMLT1XK"
      },
      "execution_count": null,
      "outputs": []
    },
    {
      "cell_type": "code",
      "source": [
        "payload = GetTravelTime(test)"
      ],
      "metadata": {
        "id": "8AJuA5HDYISc"
      },
      "execution_count": null,
      "outputs": []
    },
    {
      "cell_type": "code",
      "source": [
        "#def get_distances(location_master):\n",
        "#  distance_matrix = list()\n",
        "#  for l in location_master:\n",
        "#    coord_1 = [l['x'],l['y']]\n",
        "#    distance_row = list()\n",
        "#    for i in location_master:\n",
        "#      coord_2 = [i['x'],i['y']]\n",
        "#      distance = distance.euclidean(coord_1,coord_2)\n",
        "      \n",
        "      "
      ],
      "metadata": {
        "id": "32p50UXmN2uC"
      },
      "execution_count": null,
      "outputs": []
    },
    {
      "cell_type": "code",
      "source": [
        "def CreateTimeMultiplier(day_data,busy_hours,multipliers):\n",
        "  distribution_list = list()\n",
        "  for i in range(day_data['day_start'],day_data['day_end']):\n",
        "    for j in range(0,day_data['interval_per_hour']):\n",
        "      if i in busy_hours:\n",
        "        distribution_list.append(np.random.normal(multipliers['busy']['mean'], multipliers['busy']['sd']))\n",
        "      else:\n",
        "        distribution_list.append(np.random.normal(multipliers['normal']['mean'], multipliers['normal']['sd']))\n",
        "  multiplier_smoothed = uniform_filter1d(distribution_list,6)\n",
        "  return multiplier_smoothed\n",
        "\n"
      ],
      "metadata": {
        "id": "fNKxH_gZzPnm"
      },
      "execution_count": null,
      "outputs": []
    },
    {
      "cell_type": "code",
      "source": [
        "plt.plot(CreateTimeMultiplier(day_info,busy_hours,multiplier_data))"
      ],
      "metadata": {
        "colab": {
          "base_uri": "https://localhost:8080/",
          "height": 282
        },
        "id": "qK4tRhmx7ZZA",
        "outputId": "524ec72d-4225-48ec-e67c-e67e6e7ccb74"
      },
      "execution_count": null,
      "outputs": [
        {
          "output_type": "execute_result",
          "data": {
            "text/plain": [
              "[<matplotlib.lines.Line2D at 0x7f9853dac310>]"
            ]
          },
          "metadata": {},
          "execution_count": 27
        },
        {
          "output_type": "display_data",
          "data": {
            "image/png": "[encoded data removed]",
            "text/plain": [
              "<Figure size 432x288 with 1 Axes>"
            ]
          },
          "metadata": {
            "needs_background": "light"
          }
        }
      ]
    },
    {
      "cell_type": "markdown",
      "source": [
        "location_names = [1,2,3,4,5]\n",
        "location_x = [11.126702,11.459927,12.068349,11.641047,10.952331]\n",
        "location_y = [49.434279,48.782418,48.999987,48.250762,48.400403]\n",
        "busy_hours = [8,9,15,16]\n",
        "#Dictionary that holds all info regarding the Gaussian distribution of \n",
        "#time multilpliers\n",
        "multiplier_data = dict()\n",
        "multiplier_data['busy'] = dict()\n",
        "multiplier_data['busy']['mean'] = 1.25\n",
        "multiplier_data['busy']['sd'] = 0.2\n",
        "multiplier_data['normal'] = dict()\n",
        "multiplier_data['normal']['mean'] = 1\n",
        "multiplier_data['normal']['sd'] = 0.1\n",
        "#Dictionary that holds information regarding date and time intervals\n",
        "day_info = dict()\n",
        "day_info['number_of_days']  = 60\n",
        "day_info['day_start'] = 7\n",
        "day_info['day_end'] = 18\n",
        "day_info['interval_per_hour'] = 12"
      ],
      "metadata": {
        "id": "BttkwJTN45Cg"
      }
    },
    {
      "cell_type": "code",
      "source": [
        "def CreateDummyData(location_info,busy_hours,day_data,multipliers):\n",
        "  date_base = datetime.today()\n",
        "  date_list = [date_base - timedelta(days=x) for x in range(day_data['number_of_days'])]\n",
        "  hour_list = list()\n",
        "  hour_step = int(60/day_data['interval_per_hour'])\n",
        "  for hour in range(day_data['day_start'],day_data['day_end']):\n",
        "    for minute in range(0,60,hour_step):\n",
        "      hour_list.append(time(hour=hour,minute=minute))\n",
        "  locations = location_info['names']\n",
        "  travel_time = GetTravelTime(PrepareLocationData(location_info))\n",
        "  master_data = list()\n",
        "  for date_value in date_list:\n",
        "    for index_source, source in enumerate(locations):\n",
        "      for index_destination, destination in enumerate(locations):\n",
        "        if source != destination:\n",
        "          time_multiplier = CreateTimeMultiplier(day_data,busy_hours,multipliers)\n",
        "          original_travel_time = travel_time[index_source][index_destination]\n",
        "          adjusted_travel_time = [multiplier * original_travel_time for multiplier in time_multiplier]\n",
        "          for hour_index, hour in enumerate(hour_list):\n",
        "            data_row = dict()\n",
        "            data_row['date'] = date_value.strftime(\"%Y-%m-%d\")\n",
        "            data_row['hour'] = hour\n",
        "            data_row['source'] = source\n",
        "            data_row['destination'] = destination\n",
        "            data_row['duration'] = adjusted_travel_time[hour_index]\n",
        "            master_data.append(data_row)\n",
        "  return master_data\n"
      ],
      "metadata": {
        "id": "PhjOKr_--sYs"
      },
      "execution_count": null,
      "outputs": []
    },
    {
      "cell_type": "code",
      "source": [
        "location_master = PrepareLocationData(location_data)\n",
        "data = CreateDummyData(location_data,busy_hours,day_info,multiplier_data)"
      ],
      "metadata": {
        "id": "FP9mjxbXGRM2"
      },
      "execution_count": null,
      "outputs": []
    },
    {
      "cell_type": "markdown",
      "source": [
        ""
      ],
      "metadata": {
        "id": "8gCPJs7-41RU"
      }
    },
    {
      "cell_type": "code",
      "source": [
        "data_pandas = pd.DataFrame(data)"
      ],
      "metadata": {
        "id": "uWx036o52_1i"
      },
      "execution_count": null,
      "outputs": []
    },
    {
      "cell_type": "code",
      "source": [
        "data_pandas"
      ],
      "metadata": {
        "colab": {
          "base_uri": "https://localhost:8080/",
          "height": 424
        },
        "id": "jPKWO0WnG8l4",
        "outputId": "4cc24ae8-72eb-42a0-908a-82b8ab48af8c"
      },
      "execution_count": null,
      "outputs": [
        {
          "output_type": "execute_result",
          "data": {
            "text/html": [
              "\n",
              "  <div id=\"df-d3541a17-33a9-45ca-8ec4-a23324865908\">\n",
              "    <div class=\"colab-df-container\">\n",
              "      <div>\n",
              "<style scoped>\n",
              "    .dataframe tbody tr th:only-of-type {\n",
              "        vertical-align: middle;\n",
              "    }\n",
              "\n",
              "    .dataframe tbody tr th {\n",
              "        vertical-align: top;\n",
              "    }\n",
              "\n",
              "    .dataframe thead th {\n",
              "        text-align: right;\n",
              "    }\n",
              "</style>\n",
              "<table border=\"1\" class=\"dataframe\">\n",
              "  <thead>\n",
              "    <tr style=\"text-align: right;\">\n",
              "      <th></th>\n",
              "      <th>date</th>\n",
              "      <th>hour</th>\n",
              "      <th>source</th>\n",
              "      <th>destination</th>\n",
              "      <th>duration</th>\n",
              "    </tr>\n",
              "  </thead>\n",
              "  <tbody>\n",
              "    <tr>\n",
              "      <th>0</th>\n",
              "      <td>2022-02-22</td>\n",
              "      <td>07:00:00</td>\n",
              "      <td>Nürnberg</td>\n",
              "      <td>Ingolstadt</td>\n",
              "      <td>3143.148095</td>\n",
              "    </tr>\n",
              "    <tr>\n",
              "      <th>1</th>\n",
              "      <td>2022-02-22</td>\n",
              "      <td>07:05:00</td>\n",
              "      <td>Nürnberg</td>\n",
              "      <td>Ingolstadt</td>\n",
              "      <td>3098.957593</td>\n",
              "    </tr>\n",
              "    <tr>\n",
              "      <th>2</th>\n",
              "      <td>2022-02-22</td>\n",
              "      <td>07:10:00</td>\n",
              "      <td>Nürnberg</td>\n",
              "      <td>Ingolstadt</td>\n",
              "      <td>3067.347150</td>\n",
              "    </tr>\n",
              "    <tr>\n",
              "      <th>3</th>\n",
              "      <td>2022-02-22</td>\n",
              "      <td>07:15:00</td>\n",
              "      <td>Nürnberg</td>\n",
              "      <td>Ingolstadt</td>\n",
              "      <td>3127.657786</td>\n",
              "    </tr>\n",
              "    <tr>\n",
              "      <th>4</th>\n",
              "      <td>2022-02-22</td>\n",
              "      <td>07:20:00</td>\n",
              "      <td>Nürnberg</td>\n",
              "      <td>Ingolstadt</td>\n",
              "      <td>3118.600806</td>\n",
              "    </tr>\n",
              "    <tr>\n",
              "      <th>...</th>\n",
              "      <td>...</td>\n",
              "      <td>...</td>\n",
              "      <td>...</td>\n",
              "      <td>...</td>\n",
              "      <td>...</td>\n",
              "    </tr>\n",
              "    <tr>\n",
              "      <th>158395</th>\n",
              "      <td>2021-12-25</td>\n",
              "      <td>17:35:00</td>\n",
              "      <td>Ausburg</td>\n",
              "      <td>Munich</td>\n",
              "      <td>2320.107005</td>\n",
              "    </tr>\n",
              "    <tr>\n",
              "      <th>158396</th>\n",
              "      <td>2021-12-25</td>\n",
              "      <td>17:40:00</td>\n",
              "      <td>Ausburg</td>\n",
              "      <td>Munich</td>\n",
              "      <td>2295.627799</td>\n",
              "    </tr>\n",
              "    <tr>\n",
              "      <th>158397</th>\n",
              "      <td>2021-12-25</td>\n",
              "      <td>17:45:00</td>\n",
              "      <td>Ausburg</td>\n",
              "      <td>Munich</td>\n",
              "      <td>2217.414351</td>\n",
              "    </tr>\n",
              "    <tr>\n",
              "      <th>158398</th>\n",
              "      <td>2021-12-25</td>\n",
              "      <td>17:50:00</td>\n",
              "      <td>Ausburg</td>\n",
              "      <td>Munich</td>\n",
              "      <td>2196.928242</td>\n",
              "    </tr>\n",
              "    <tr>\n",
              "      <th>158399</th>\n",
              "      <td>2021-12-25</td>\n",
              "      <td>17:55:00</td>\n",
              "      <td>Ausburg</td>\n",
              "      <td>Munich</td>\n",
              "      <td>2225.949414</td>\n",
              "    </tr>\n",
              "  </tbody>\n",
              "</table>\n",
              "<p>158400 rows × 5 columns</p>\n",
              "</div>\n",
              "      <button class=\"colab-df-convert\" onclick=\"convertToInteractive('df-d3541a17-33a9-45ca-8ec4-a23324865908')\"\n",
              "              title=\"Convert this dataframe to an interactive table.\"\n",
              "              style=\"display:none;\">\n",
              "        \n",
              "  <svg xmlns=\"http://www.w3.org/2000/svg\" height=\"24px\"viewBox=\"0 0 24 24\"\n",
              "       width=\"24px\">\n",
              "    <path d=\"M0 0h24v24H0V0z\" fill=\"none\"/>\n",
              "    <path d=\"M18.56 5.44l.94 2.06.94-2.06 2.06-.94-2.06-.94-.94-2.06-.94 2.06-2.06.94zm-11 1L8.5 8.5l.94-2.06 2.06-.94-2.06-.94L8.5 2.5l-.94 2.06-2.06.94zm10 10l.94 2.06.94-2.06 2.06-.94-2.06-.94-.94-2.06-.94 2.06-2.06.94z\"/><path d=\"M17.41 7.96l-1.37-1.37c-.4-.4-.92-.59-1.43-.59-.52 0-1.04.2-1.43.59L10.3 9.45l-7.72 7.72c-.78.78-.78 2.05 0 2.83L4 21.41c.39.39.9.59 1.41.59.51 0 1.02-.2 1.41-.59l7.78-7.78 2.81-2.81c.8-.78.8-2.07 0-2.86zM5.41 20L4 18.59l7.72-7.72 1.47 1.35L5.41 20z\"/>\n",
              "  </svg>\n",
              "      </button>\n",
              "      \n",
              "  <style>\n",
              "    .colab-df-container {\n",
              "      display:flex;\n",
              "      flex-wrap:wrap;\n",
              "      gap: 12px;\n",
              "    }\n",
              "\n",
              "    .colab-df-convert {\n",
              "      background-color: #E8F0FE;\n",
              "      border: none;\n",
              "      border-radius: 50%;\n",
              "      cursor: pointer;\n",
              "      display: none;\n",
              "      fill: #1967D2;\n",
              "      height: 32px;\n",
              "      padding: 0 0 0 0;\n",
              "      width: 32px;\n",
              "    }\n",
              "\n",
              "    .colab-df-convert:hover {\n",
              "      background-color: #E2EBFA;\n",
              "      box-shadow: 0px 1px 2px rgba(60, 64, 67, 0.3), 0px 1px 3px 1px rgba(60, 64, 67, 0.15);\n",
              "      fill: #174EA6;\n",
              "    }\n",
              "\n",
              "    [theme=dark] .colab-df-convert {\n",
              "      background-color: #3B4455;\n",
              "      fill: #D2E3FC;\n",
              "    }\n",
              "\n",
              "    [theme=dark] .colab-df-convert:hover {\n",
              "      background-color: #434B5C;\n",
              "      box-shadow: 0px 1px 3px 1px rgba(0, 0, 0, 0.15);\n",
              "      filter: drop-shadow(0px 1px 2px rgba(0, 0, 0, 0.3));\n",
              "      fill: #FFFFFF;\n",
              "    }\n",
              "  </style>\n",
              "\n",
              "      <script>\n",
              "        const buttonEl =\n",
              "          document.querySelector('#df-d3541a17-33a9-45ca-8ec4-a23324865908 button.colab-df-convert');\n",
              "        buttonEl.style.display =\n",
              "          google.colab.kernel.accessAllowed ? 'block' : 'none';\n",
              "\n",
              "        async function convertToInteractive(key) {\n",
              "          const element = document.querySelector('#df-d3541a17-33a9-45ca-8ec4-a23324865908');\n",
              "          const dataTable =\n",
              "            await google.colab.kernel.invokeFunction('convertToInteractive',\n",
              "                                                     [key], {});\n",
              "          if (!dataTable) return;\n",
              "\n",
              "          const docLinkHtml = 'Like what you see? Visit the ' +\n",
              "            '<a target=\"_blank\" href=https://colab.research.google.com/notebooks/data_table.ipynb>data table notebook</a>'\n",
              "            + ' to learn more about interactive tables.';\n",
              "          element.innerHTML = '';\n",
              "          dataTable['output_type'] = 'display_data';\n",
              "          await google.colab.output.renderOutput(dataTable, element);\n",
              "          const docLink = document.createElement('div');\n",
              "          docLink.innerHTML = docLinkHtml;\n",
              "          element.appendChild(docLink);\n",
              "        }\n",
              "      </script>\n",
              "    </div>\n",
              "  </div>\n",
              "  "
            ],
            "text/plain": [
              "              date      hour    source destination     duration\n",
              "0       2022-02-22  07:00:00  Nürnberg  Ingolstadt  3143.148095\n",
              "1       2022-02-22  07:05:00  Nürnberg  Ingolstadt  3098.957593\n",
              "2       2022-02-22  07:10:00  Nürnberg  Ingolstadt  3067.347150\n",
              "3       2022-02-22  07:15:00  Nürnberg  Ingolstadt  3127.657786\n",
              "4       2022-02-22  07:20:00  Nürnberg  Ingolstadt  3118.600806\n",
              "...            ...       ...       ...         ...          ...\n",
              "158395  2021-12-25  17:35:00   Ausburg      Munich  2320.107005\n",
              "158396  2021-12-25  17:40:00   Ausburg      Munich  2295.627799\n",
              "158397  2021-12-25  17:45:00   Ausburg      Munich  2217.414351\n",
              "158398  2021-12-25  17:50:00   Ausburg      Munich  2196.928242\n",
              "158399  2021-12-25  17:55:00   Ausburg      Munich  2225.949414\n",
              "\n",
              "[158400 rows x 5 columns]"
            ]
          },
          "metadata": {},
          "execution_count": 31
        }
      ]
    },
    {
      "cell_type": "code",
      "source": [
        "data_pandas.to_csv('dummy_traffic_data.csv', encoding = 'utf-8-sig',index=False) \n",
        "files.download('dummy_traffic_data.csv')"
      ],
      "metadata": {
        "colab": {
          "base_uri": "https://localhost:8080/",
          "height": 17
        },
        "id": "VVSih89OHuIY",
        "outputId": "0e6cef2b-5f4f-40f8-dde5-04045fa39b72"
      },
      "execution_count": null,
      "outputs": [
        {
          "output_type": "display_data",
          "data": {
            "application/javascript": [
              "\n",
              "    async function download(id, filename, size) {\n",
              "      if (!google.colab.kernel.accessAllowed) {\n",
              "        return;\n",
              "      }\n",
              "      const div = document.createElement('div');\n",
              "      const label = document.createElement('label');\n",
              "      label.textContent = `Downloading \"${filename}\": `;\n",
              "      div.appendChild(label);\n",
              "      const progress = document.createElement('progress');\n",
              "      progress.max = size;\n",
              "      div.appendChild(progress);\n",
              "      document.body.appendChild(div);\n",
              "\n",
              "      const buffers = [];\n",
              "      let downloaded = 0;\n",
              "\n",
              "      const channel = await google.colab.kernel.comms.open(id);\n",
              "      // Send a message to notify the kernel that we're ready.\n",
              "      channel.send({})\n",
              "\n",
              "      for await (const message of channel.messages) {\n",
              "        // Send a message to notify the kernel that we're ready.\n",
              "        channel.send({})\n",
              "        if (message.buffers) {\n",
              "          for (const buffer of message.buffers) {\n",
              "            buffers.push(buffer);\n",
              "            downloaded += buffer.byteLength;\n",
              "            progress.value = downloaded;\n",
              "          }\n",
              "        }\n",
              "      }\n",
              "      const blob = new Blob(buffers, {type: 'application/binary'});\n",
              "      const a = document.createElement('a');\n",
              "      a.href = window.URL.createObjectURL(blob);\n",
              "      a.download = filename;\n",
              "      div.appendChild(a);\n",
              "      a.click();\n",
              "      div.remove();\n",
              "    }\n",
              "  "
            ],
            "text/plain": [
              "<IPython.core.display.Javascript object>"
            ]
          },
          "metadata": {}
        },
        {
          "output_type": "display_data",
          "data": {
            "application/javascript": [
              "download(\"download_db103b9f-a4e9-4dbd-83b9-a396c4ed8c87\", \"dummy_traffic_data.csv\", 10037483)"
            ],
            "text/plain": [
              "<IPython.core.display.Javascript object>"
            ]
          },
          "metadata": {}
        }
      ]
    },
    {
      "cell_type": "code",
      "source": [
        ""
      ],
      "metadata": {
        "id": "dTSHRa8OJNiq"
      },
      "execution_count": null,
      "outputs": []
    }
  ]
}